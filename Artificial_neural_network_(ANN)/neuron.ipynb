{
 "cells": [
  {
   "attachments": {},
   "cell_type": "markdown",
   "metadata": {},
   "source": [
    "Well, once that the brain is one of the most powerfull learning tools/mechanisms on the planet nothing fairer than trying to recreate it"
   ]
  },
  {
   "attachments": {},
   "cell_type": "markdown",
   "metadata": {},
   "source": [
    "<img src=\"img/neuron.jpg\" width=\"700\"> <img src=\"img/sinapse.png\" width=\"700\">"
   ]
  },
  {
   "attachments": {},
   "cell_type": "markdown",
   "metadata": {},
   "source": [
    "The **neuron** by themselves are pretty much useless, but at the same time when we have lots of them together they can do extraordinary things. But how they work together? Well the dendrite receivers the signal of one neuron and the axon can transmitte the signal for others neurons. In the nervous system, a synapse is a structure that permits a neuron (or nerve cell) to pass an electrical or chemical signal."
   ]
  },
  {
   "attachments": {},
   "cell_type": "markdown",
   "metadata": {},
   "source": [
    "The neuron in computer science is also called the node, it gets some input signals process the signal using some activation function and output a signal."
   ]
  },
  {
   "attachments": {},
   "cell_type": "markdown",
   "metadata": {},
   "source": [
    "<img src=\"img/artificial_neuron.png\" width=\"700\">"
   ]
  },
  {
   "attachments": {},
   "cell_type": "markdown",
   "metadata": {},
   "source": [
    "## The activation functions"
   ]
  },
  {
   "attachments": {},
   "cell_type": "markdown",
   "metadata": {},
   "source": [
    "<img src=\"img/threshold_function.png\" width=\"500\"> "
   ]
  },
  {
   "attachments": {},
   "cell_type": "markdown",
   "metadata": {},
   "source": [
    "<img src=\"img/sigmoid.png\" width=\"500\">"
   ]
  },
  {
   "attachments": {},
   "cell_type": "markdown",
   "metadata": {},
   "source": [
    "<img src=\"img/rectifier.png\" width=\"500\"> "
   ]
  },
  {
   "attachments": {},
   "cell_type": "markdown",
   "metadata": {},
   "source": [
    "<img src=\"img/hyperbolic_tangent(tanh)png.png\" width=\"500\">"
   ]
  },
  {
   "attachments": {},
   "cell_type": "markdown",
   "metadata": {},
   "source": [
    "## Perceptron\n",
    "The perceptron is a single **unit of logic** in an artificial neural network. It is an algorithm which outputs a binary conclusion (one of 2 possible outcomes)."
   ]
  },
  {
   "attachments": {},
   "cell_type": "markdown",
   "metadata": {},
   "source": [
    "We use the **gradient descent** to find the best option, to optimization the ptoblem of minimizze the cost function."
   ]
  },
  {
   "attachments": {},
   "cell_type": "markdown",
   "metadata": {},
   "source": [
    "We actually have two types of gradient descent the **Batch gradient descent** and the **Stochastic gradient descent**. The stochastic runs one row at the time, adjusting its weights instead of run all of them at once as the batch does. The two main differences are that the stochastic helps to avoid potential local minimum problems since this method has much highes fluctuation because it's doing one iteration or one row at time and therefore the fluctuations are much higher and it is more likely to find the global minimum rather than just the local minimum. Another advantage of stochastic against batch is the velocity, once it doesn't have to load up all the data into memory and run and wait until all those rows are run altogether, it is much lighter algorithm. Otherwise the advantage of the Batch gradient method is that it is a deterministic algorithm rather than a stochastic gradient descent that is random, this means that as long as you have the same starting weights for your neural network every time you run the batch gradient descent method you will get the same iterations the same results for the way your weights are being updated."
   ]
  }
 ],
 "metadata": {
  "kernelspec": {
   "display_name": "Julia 1.8.5",
   "language": "julia",
   "name": "julia-1.8"
  },
  "language_info": {
   "file_extension": ".jl",
   "mimetype": "application/julia",
   "name": "julia",
   "version": "1.8.5"
  },
  "orig_nbformat": 4
 },
 "nbformat": 4,
 "nbformat_minor": 2
}
